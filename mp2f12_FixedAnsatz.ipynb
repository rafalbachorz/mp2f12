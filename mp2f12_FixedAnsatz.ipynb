{
 "cells": [
  {
   "cell_type": "code",
   "execution_count": 1,
   "metadata": {},
   "outputs": [],
   "source": [
    "\"\"\"\n",
    "A Psi4 script to compute MP2-F12 energies\n",
    "Ten-no's diagonal fixed-amplitude Ansatz.\n",
    "\"\"\"\n",
    "\n",
    "__authors__   = \"Monika Kodrycka\"\n",
    "__credits__ = [\"Monika Kodrycka\"]\n"
   ]
  },
  {
   "cell_type": "code",
   "execution_count": 2,
   "metadata": {},
   "outputs": [],
   "source": [
    "import time\n",
    "#import numpy as np\n",
    "from helper_mp2f12 import *\n",
    "np.set_printoptions(precision=5, linewidth=200, threshold=2000, suppress=True)\n",
    "import psi4"
   ]
  },
  {
   "cell_type": "code",
   "execution_count": 3,
   "metadata": {},
   "outputs": [],
   "source": [
    "#import cupy as np"
   ]
  },
  {
   "cell_type": "code",
   "execution_count": 4,
   "metadata": {},
   "outputs": [],
   "source": [
    "# Memory for Psi4 in GB\n",
    "psi4.set_memory('2 GB')\n",
    "psi4.core.set_output_file('output.dat', False)\n",
    "\n",
    "# Memory for numpy in GB\n",
    "numpy_memory = 2"
   ]
  },
  {
   "cell_type": "code",
   "execution_count": 5,
   "metadata": {},
   "outputs": [],
   "source": [
    "molecule = psi4.geometry(\"\"\"\n",
    "Ne\n",
    "symmetry c1\n",
    "\"\"\")"
   ]
  },
  {
   "cell_type": "code",
   "execution_count": null,
   "metadata": {},
   "outputs": [],
   "source": [
    "molecule = psi4.geometry(\"\"\"\n",
    "O\n",
    "H 1 1.1\n",
    "H 1 1.1 2 104\n",
    "symmetry c1\n",
    "\"\"\")"
   ]
  },
  {
   "cell_type": "code",
   "execution_count": 6,
   "metadata": {},
   "outputs": [],
   "source": [
    "molecule = psi4.geometry(\"\"\"\n",
    "O          0.00000        0.00000        0.11779\n",
    "H          0.00000        0.75545       -0.47116\n",
    "H          0.00000       -0.75545       -0.47116\n",
    "symmetry c1\n",
    "\"\"\")"
   ]
  },
  {
   "cell_type": "code",
   "execution_count": 7,
   "metadata": {},
   "outputs": [],
   "source": [
    "#basisSets = ['cc-pvdz-f12', 'cc-pvtz-f12', 'cc-pvqz-f12']\n",
    "basisSets = ['cc-pvdz-f12', 'cc-pvtz-f12']\n",
    "basisSets = ['cc-pvqz-f12']\n",
    "energies = {}"
   ]
  },
  {
   "cell_type": "code",
   "execution_count": 8,
   "metadata": {},
   "outputs": [
    {
     "name": "stdout",
     "output_type": "stream",
     "text": [
      "\n",
      "Initializing INTEGRALS object...\n",
      "\n",
      "\n",
      " Start MP2-F12 with Ten-no's diagonal fixed-amplitude Ansatz...\n",
      "\n",
      "\n",
      "EMP2:  -0.2412040827367346\n"
     ]
    }
   ],
   "source": [
    "#for basis in basisSets:\n",
    "basis = 'cc-pvdz-f12'\n",
    "psi4.set_options({'basis': basis,\n",
    "                  'df_basis_mp2':'cc-pvtz-ri', 'scf_type': 'pk', 'mp2_type': 'conv',\n",
    "                  'e_convergence': 1e-8,\n",
    "                  'd_convergence': 1e-8, 'FREEZE_CORE': 'True',\n",
    "                })\n",
    "\n",
    "mp2f12 = helper_mp2f12(molecule, memory=8)\n",
    "\n",
    "obs = mp2f12.get_size()\n",
    "nocc = obs['o']\n",
    "naocc = obs['i']\n",
    "nfocc = nocc - naocc \n",
    "nvir = obs['a']\n",
    "nobs = nmo = obs['p']\n",
    "ncabs = obs['x']\n",
    "nri = nmo + ncabs\n",
    "eps = mp2f12.get_eps()\n",
    "Eocc = eps[nfocc:nocc]\n",
    "Evirt = eps[nocc:]\n",
    "\n",
    "print(\"\\n Start MP2-F12 with Ten-no's diagonal fixed-amplitude Ansatz...\\n\\n\")\n",
    "# Traditional MP2\n",
    "D = Eocc.reshape(-1, 1, 1, 1) + Eocc.reshape(-1, 1, 1) - Evirt.reshape(-1, 1) - Evirt\n",
    "t_ijab = mp2f12.g('iiaa') / D \n",
    "T_ijab = 2 * t_ijab - t_ijab.swapaxes(2,3)\n",
    "e_mp2 = np.einsum('ijab,ijab->', mp2f12.g('iiaa'), T_ijab)\n",
    "\n",
    "energies[basis] = e_mp2\n",
    "print('EMP2: ', e_mp2)\n",
    "    "
   ]
  },
  {
   "cell_type": "code",
   "execution_count": 9,
   "metadata": {},
   "outputs": [],
   "source": [
    "#constant\n",
    "psi_hartree2kcalmol = 627.5095"
   ]
  },
  {
   "cell_type": "code",
   "execution_count": 10,
   "metadata": {},
   "outputs": [],
   "source": [
    "def Calculate_B(fk, mp2f12):\n",
    "\n",
    "    obs = mp2f12.get_size()\n",
    "    nocc = obs['o']\n",
    "    naocc = obs['i']\n",
    "    nfocc = nocc - naocc\n",
    "    nvir = obs['a']\n",
    "    nobs = nmo = obs['p']\n",
    "    ncabs = obs['x']\n",
    "    nri = nmo + ncabs\n",
    "    eps = mp2f12.get_eps()\n",
    "\n",
    "    # Build B Matrix \n",
    "    B = np.zeros((naocc,naocc,naocc,naocc))\n",
    "\n",
    "    B += mp2f12.f12dc('iiii',1.0)\n",
    "\n",
    "    tmp = np.einsum('pr,lkqr->klpq', fk[:nobs,:nobs], mp2f12.f12('iipp',1.0))\n",
    "    B -= np.einsum('mnpq,klpq->klmn', mp2f12.f12('iipp',1.0), tmp)\n",
    "    tmp = np.einsum('qr,klpr->klpq', fk[:nobs,:nobs], mp2f12.f12('iipp',1.0))\n",
    "    B -= np.einsum('mnpq,klpq->klmn', mp2f12.f12('iipp',1.0), tmp)\n",
    "    tmp = np.einsum('px,lkqx->klpq', fk[:nobs,nobs:], mp2f12.f12('iipx',1.0))\n",
    "    B -= np.einsum('mnpq,klpq->klmn', mp2f12.f12('iipp',1.0), tmp)\n",
    "    tmp = np.einsum('qx,klpx->klpq', fk[:nobs,nobs:], mp2f12.f12('iipx',1.0))\n",
    "    B -= np.einsum('mnpq,klpq->klmn', mp2f12.f12('iipp',1.0), tmp)\n",
    "    tmp = np.einsum('yp,klip->kliy', fk[nobs:,:nobs], mp2f12.f12('iiop',1.0))\n",
    "    B -= np.einsum('mniy,kliy->klmn', mp2f12.f12('iiox',1.0), tmp)\n",
    "    tmp = np.einsum('xp,lkjp->klxj', fk[nobs:,:nobs], mp2f12.f12('iiop',1.0))\n",
    "    B -= np.einsum('nmjx,klxj->klmn', mp2f12.f12('iiox',1.0), tmp)\n",
    "    tmp = np.einsum('ip,klpy->kliy', fk[:nocc,:nobs], mp2f12.f12('iipx',1.0))\n",
    "    B -= np.einsum('mniy,kliy->klmn', mp2f12.f12('iiox',1.0), tmp)\n",
    "    tmp = np.einsum('yx,klix->kliy', fk[nobs:,nobs:], mp2f12.f12('iiox',1.0))\n",
    "    B -= np.einsum('mniy,kliy->klmn', mp2f12.f12('iiox',1.0), tmp) \n",
    "    tmp = np.einsum('xy,lkjy->klxj', fk[nobs:,nobs:], mp2f12.f12('iiox',1.0))\n",
    "    B -= np.einsum('nmjx,klxj->klmn', mp2f12.f12('iiox',1.0), tmp)\n",
    "    tmp = np.einsum('jp,lkpx->klxj', fk[:nocc,:nobs], mp2f12.f12('iipx',1.0))\n",
    "    B -= np.einsum('nmjx,klxj->klmn', mp2f12.f12('iiox',1.0), tmp)\n",
    "    tmp = np.einsum('ix,klxy->kliy', fk[:nocc,nobs:], mp2f12.f12('iixx',1.0))\n",
    "    B -= np.einsum('mniy,kliy->klmn', mp2f12.f12('iiox',1.0), tmp)\n",
    "    tmp = np.einsum('jy,lkyx->klxj', fk[:nocc,nobs:], mp2f12.f12('iixx',1.0))\n",
    "    B -= np.einsum('nmjx,klxj->klmn', mp2f12.f12('iiox',1.0), tmp)\n",
    "\n",
    "    # Y contribution \n",
    "    tmp = np.einsum('xp,lkbp->klxb', k[nobs:,:nobs], mp2f12.f12('iiap',1.0))\n",
    "    B -= np.einsum('klxb,nmbx->klmn', tmp, mp2f12.f12('iiax',1.0))\n",
    "    tmp = np.einsum('yp,klap->klay',k[nobs:,:nobs], mp2f12.f12('iiap',1.0))\n",
    "    B -= np.einsum('klay,mnay->klmn', tmp, mp2f12.f12('iiax',1.0))\n",
    "    tmp = np.einsum('xy,lkby->klxb', k[nobs:,nobs:], mp2f12.f12('iiax',1.0))\n",
    "    B -= np.einsum('klxb,nmbx->klmn', tmp, mp2f12.f12('iiax',1.0))\n",
    "    tmp = np.einsum('bp,lkpx->klxb', k[nocc:nobs,:nobs], mp2f12.f12('iipx',1.0))\n",
    "    B -= np.einsum('klxb,nmbx->klmn', tmp, mp2f12.f12('iiax',1.0))\n",
    "    tmp = np.einsum('ap,klpy->klay', k[nocc:nobs,:nobs], mp2f12.f12('iipx',1.0))\n",
    "    B -= np.einsum('klay,mnay->klmn', tmp, mp2f12.f12('iiax',1.0))\n",
    "    tmp = np.einsum('yx,klax->klay',k[nobs:,nobs:], mp2f12.f12('iiax',1.0))\n",
    "    B -= np.einsum('klay,mnay->klmn', tmp, mp2f12.f12('iiax',1.0))\n",
    "    tmp = np.einsum('by,lkyx->klxb', k[nocc:nobs,nobs:], mp2f12.f12('iixx',1.0))\n",
    "    B -= np.einsum('klxb,nmbx->klmn', tmp, mp2f12.f12('iiax',1.0))\n",
    "    tmp = np.einsum('ax,klxy->klay', k[nocc:nobs,nobs:], mp2f12.f12('iixx',1.0))\n",
    "    B -= np.einsum('klay,mnay->klmn', tmp, mp2f12.f12('iiax',1.0))\n",
    "    tmp = np.einsum('xp,klpy->klxy', k[nobs:,:nobs], mp2f12.f12('iipx',1.0))\n",
    "    B -= np.einsum('klxy,mnxy->klmn', tmp, mp2f12.f12('iixx',1.0))\n",
    "    tmp = np.einsum('yp,lkpx->klxy', k[nobs:,:nobs], mp2f12.f12('iipx',1.0))\n",
    "    B -= np.einsum('klxy,mnxy->klmn', tmp, mp2f12.f12('iixx',1.0))\n",
    "    tmp = np.einsum('yz,lkzx->klxy', k[nobs:,nobs:], mp2f12.f12('iixx',1.0))\n",
    "    B -= np.einsum('klxy,mnxy->klmn', tmp, mp2f12.f12('iixx',1.0))\n",
    "    tmp = np.einsum('xz,klzy->klxy', k[nobs:,nobs:], mp2f12.f12('iixx',1.0))\n",
    "    B -= np.einsum('klxy,mnxy->klmn', tmp, mp2f12.f12('iixx',1.0))\n",
    "\n",
    "    # F^2 Contribution\n",
    "    B += np.einsum('kp,nmlp->klmn', fk[nfocc:nocc,:nobs], mp2f12.f12squared('iiip',1.0))\n",
    "    B += np.einsum('lp,mnkp->klmn', fk[nfocc:nocc,:nobs], mp2f12.f12squared('iiip',1.0))\n",
    "    B += np.einsum('kx,nmlx->klmn', fk[nfocc:nocc,nobs:], mp2f12.f12squared('iiix',1.0))\n",
    "    B += np.einsum('lx,mnkx->klmn', fk[nfocc:nocc,nobs:], mp2f12.f12squared('iiix',1.0))\n",
    "\n",
    "    # C Matrix\n",
    "    C = np.zeros((naocc,naocc,nvir,nvir))\n",
    "    C += np.einsum('bx,klax->klab', f[nocc:nobs,nobs:], mp2f12.f12('iiax',1.0))\n",
    "    C += np.einsum('ax,lkbx->klab', f[nocc:nobs,nobs:], mp2f12.f12('iiax',1.0))\n",
    "\n",
    "    # -FC contribution to B\n",
    "    B -= np.einsum('klab,mnab->klmn', mp2f12.f12('iiaa',1.0), C)\n",
    "\n",
    "    # Symmetrize B\n",
    "    B = 0.5 * (B + np.einsum('klmn->mnkl', B))\n",
    "\n",
    "    return B"
   ]
  },
  {
   "cell_type": "code",
   "execution_count": 11,
   "metadata": {},
   "outputs": [],
   "source": [
    "# Build Marrix V\n",
    "V = np.zeros((naocc,naocc,naocc,naocc))\n",
    "V += mp2f12.f12g12('iiii', 1.0)\n",
    "V -= np.einsum('ijrs,klrs->ijkl',mp2f12.g('iipp'),mp2f12.f12('iipp',1.0))\n",
    "V -= np.einsum('ijxm,klxm->ijkl',mp2f12.g('iixi'),mp2f12.f12('iixi',1.0))\n",
    "V -= np.einsum('ijmx,klmx->ijkl',mp2f12.g('iiix'),mp2f12.f12('iiix',1.0))"
   ]
  },
  {
   "cell_type": "code",
   "execution_count": 12,
   "metadata": {},
   "outputs": [],
   "source": [
    "e_f12_V = 0.0\n",
    "for i in range(naocc):\n",
    "        for j in range(naocc):\n",
    "            e_f12_V += (5.0/8.0) * V[i,j,i,j]\n",
    "            e_f12_V -= (1.0/8.0) * V[j,i,i,j]"
   ]
  },
  {
   "cell_type": "code",
   "execution_count": 13,
   "metadata": {},
   "outputs": [],
   "source": [
    "#Build Matrix X\n",
    "X = np.zeros((naocc,naocc,naocc,naocc))\n",
    "X += mp2f12.f12squared('iiii', 1.0)\n",
    "X -= np.einsum('ijrs,klrs->ijkl',mp2f12.f12('iipp',1.0),mp2f12.f12('iipp',1.0))\n",
    "X -= np.einsum('ijxm,klxm->ijkl',mp2f12.f12('iixi',1.0),mp2f12.f12('iixi',1.0))\n",
    "X -= np.einsum('ijmx,klmx->ijkl',mp2f12.f12('iiix',1.0),mp2f12.f12('iiix',1.0))"
   ]
  },
  {
   "cell_type": "code",
   "execution_count": 14,
   "metadata": {},
   "outputs": [],
   "source": [
    "V_pp, V_px , V_xx = mp2f12.get_V()\n",
    "T_pp, T_px , T_xx = mp2f12.get_T()"
   ]
  },
  {
   "cell_type": "code",
   "execution_count": 15,
   "metadata": {},
   "outputs": [],
   "source": [
    "# Build Fock matrix\n",
    "k = np.zeros((nri,nri))\n",
    "f = np.zeros((nri,nri))"
   ]
  },
  {
   "cell_type": "code",
   "execution_count": 16,
   "metadata": {},
   "outputs": [],
   "source": [
    "# T1 and V1 contribution to the Fock matrix\n",
    "f[:nobs, :nobs] = T_pp + V_pp\n",
    "f[:nobs, nobs:] = T_px + V_px\n",
    "f[nobs:, nobs:] = T_xx + V_xx"
   ]
  },
  {
   "cell_type": "code",
   "execution_count": 17,
   "metadata": {},
   "outputs": [],
   "source": [
    "# Coulomb integral contribution to the Fock matrix\n",
    "f[:nobs,:nobs] += 2.0 * np.einsum('viui->vu', mp2f12.g('popo'))\n",
    "f[:nobs,nobs:] += 2.0 * np.einsum('iviu->vu', mp2f12.g('opox'))\n",
    "f[nobs:,nobs:] += 2.0 * np.einsum('iviu->vu', mp2f12.g('oxox'))"
   ]
  },
  {
   "cell_type": "code",
   "execution_count": 18,
   "metadata": {},
   "outputs": [],
   "source": [
    "# Exchange integral contribution to the Fock matrix\n",
    "k[:nobs,:nobs] = np.einsum('iivu->vu', mp2f12.g('oopp'))\n",
    "k[:nobs,nobs:] = np.einsum('iivu->vu', mp2f12.g('oopx'))\n",
    "k[nobs:,nobs:] = np.einsum('iivu->vu', mp2f12.g('ooxx'))\n",
    "f -= k"
   ]
  },
  {
   "cell_type": "code",
   "execution_count": 19,
   "metadata": {},
   "outputs": [],
   "source": [
    "# Fill in the remaining elements by symmetry\n",
    "f[nobs:,:nobs] = f[:nobs,nobs:].T\n",
    "k[nobs:,:nobs] = k[:nobs,nobs:].T\n",
    "fk = f + k"
   ]
  },
  {
   "cell_type": "code",
   "execution_count": 20,
   "metadata": {},
   "outputs": [],
   "source": [
    "e_f12_X = 0.0\n",
    "for i in range(naocc):\n",
    "    for j in range(naocc):\n",
    "        e_f12_X += (f[nfocc+i,nfocc+i] + f[nfocc+j,nfocc+j]) * (7.0/32.0) * X[i,j,i,j]\n",
    "        e_f12_X += (f[nfocc+i,nfocc+i] + f[nfocc+j,nfocc+j]) * (1.0/32.0) * X[i,j,j,i]"
   ]
  },
  {
   "cell_type": "code",
   "execution_count": 21,
   "metadata": {},
   "outputs": [],
   "source": [
    "B = Calculate_B(fk, mp2f12)"
   ]
  },
  {
   "cell_type": "code",
   "execution_count": 22,
   "metadata": {},
   "outputs": [],
   "source": [
    "e_f12_B = 0.0\n",
    "for i in range(naocc):\n",
    "        for j in range(naocc):\n",
    "            e_f12_B += (7.0/32.0) * B[i,j,i,j]\n",
    "            e_f12_B += (1.0/32.0) * B[i,j,j,i]"
   ]
  },
  {
   "cell_type": "code",
   "execution_count": 23,
   "metadata": {},
   "outputs": [],
   "source": [
    "# Calculate F12 correction\n",
    "e_f12 = 2*e_f12_V + e_f12_B - e_f12_X"
   ]
  },
  {
   "cell_type": "code",
   "execution_count": 24,
   "metadata": {},
   "outputs": [],
   "source": [
    "# Obtain SCF from Psi4\n",
    "scf_e = psi4.energy('SCF', return_wfn=False)"
   ]
  },
  {
   "cell_type": "code",
   "execution_count": 26,
   "metadata": {},
   "outputs": [
    {
     "name": "stdout",
     "output_type": "stream",
     "text": [
      "\n",
      "MP2-F12 with fixed amplitudes:\n",
      "----------------------------------\n",
      "      SCF energy:                -76.058455449\n",
      "      MP2 correlation energy:     -0.241204083\n",
      "      F12 correlation energy:     -0.053962231\n",
      "  MP2-F12 correlation energy:     -0.295166314\n",
      "  MP2 + SCF           energy:    -76.299659532\n"
     ]
    }
   ],
   "source": [
    "print('\\nMP2-F12 with fixed amplitudes:')\n",
    "print('----------------------------------')\n",
    "print('      SCF energy:             %16.9f' % (scf_e))\n",
    "print('      MP2 correlation energy: %16.9f' % (e_mp2))\n",
    "print('      F12 correlation energy: %16.9f' % (e_f12))\n",
    "print('  MP2-F12 correlation energy: %16.9f' % (e_mp2 + e_f12))\n",
    "print('  MP2 + SCF           energy: %16.9f' % (e_mp2 + scf_e))"
   ]
  },
  {
   "cell_type": "code",
   "execution_count": null,
   "metadata": {},
   "outputs": [],
   "source": []
  }
 ],
 "metadata": {
  "kernelspec": {
   "display_name": "Python 3",
   "language": "python",
   "name": "python3"
  },
  "language_info": {
   "codemirror_mode": {
    "name": "ipython",
    "version": 3
   },
   "file_extension": ".py",
   "mimetype": "text/x-python",
   "name": "python",
   "nbconvert_exporter": "python",
   "pygments_lexer": "ipython3",
   "version": "3.6.11"
  }
 },
 "nbformat": 4,
 "nbformat_minor": 4
}
