{
 "cells": [
  {
   "cell_type": "code",
   "execution_count": 1,
   "metadata": {},
   "outputs": [],
   "source": [
    "__authors__   = \"Monika Kodrycka\"\n",
    "__credits__ = [\"Monika Kodrycka\"]"
   ]
  },
  {
   "cell_type": "code",
   "execution_count": 2,
   "metadata": {},
   "outputs": [],
   "source": [
    "import time\n",
    "import numpy as np\n",
    "from helper_mp2f12 import *\n",
    "np.set_printoptions(precision=5, linewidth=200, threshold=2000, suppress=True)\n",
    "import psi4"
   ]
  },
  {
   "cell_type": "code",
   "execution_count": 3,
   "metadata": {},
   "outputs": [],
   "source": [
    "# Memory for Psi4 in GB\n",
    "psi4.set_memory('2 GB')\n",
    "psi4.core.set_output_file('output.dat', False)"
   ]
  },
  {
   "cell_type": "code",
   "execution_count": 4,
   "metadata": {},
   "outputs": [],
   "source": [
    "# Memory for numpy in GB\n",
    "numpy_memory = 2"
   ]
  },
  {
   "cell_type": "code",
   "execution_count": 5,
   "metadata": {},
   "outputs": [],
   "source": [
    "molecule = psi4.geometry(\"\"\"\n",
    "O          0.00000        0.00000        0.11779\n",
    "H          0.00000        0.75545       -0.47116\n",
    "H          0.00000       -0.75545       -0.47116\n",
    "symmetry c1\n",
    "\"\"\")"
   ]
  },
  {
   "cell_type": "code",
   "execution_count": 6,
   "metadata": {},
   "outputs": [],
   "source": [
    "psi4.set_options({'basis': 'cc-pvdz-f12',\n",
    "                'df_basis_mp2':'cc-pvdz-ri',\n",
    "                'scf_type': 'pk',\n",
    "                'mp2_type': 'conv',\n",
    "                'e_convergence': 1e-8,\n",
    "                'd_convergence': 1e-8,\n",
    "                'FREEZE_CORE': 'True',\n",
    "                })"
   ]
  },
  {
   "cell_type": "code",
   "execution_count": 7,
   "metadata": {},
   "outputs": [],
   "source": [
    "gamma = 0.9"
   ]
  },
  {
   "cell_type": "code",
   "execution_count": 8,
   "metadata": {},
   "outputs": [
    {
     "name": "stdout",
     "output_type": "stream",
     "text": [
      "\n",
      "Initializing INTEGRALS object...\n",
      "\n"
     ]
    }
   ],
   "source": [
    "mp2f12 = helper_mp2f12(molecule, memory=8)"
   ]
  },
  {
   "cell_type": "code",
   "execution_count": 9,
   "metadata": {},
   "outputs": [],
   "source": [
    "def Calculate_BC(fk,mp2f12):\n",
    "    \"\"\"\n",
    "    Returns B and C.\n",
    "    \"\"\"\n",
    "\n",
    "    # Build Matrix B\n",
    "    B = np.zeros((naocc,naocc,naocc,naocc))\n",
    "\n",
    "    B += mp2f12.f12dc('iiii', gamma)\n",
    "\n",
    "    tmp = np.einsum('pr,lkqr->klpq', fk[:nobs,:nobs], mp2f12.f12('iipp', gamma))\n",
    "    B -= np.einsum('mnpq,klpq->klmn', mp2f12.f12('iipp', gamma), tmp)\n",
    "    tmp = np.einsum('qr,klpr->klpq', fk[:nobs,:nobs], mp2f12.f12('iipp', gamma))\n",
    "    B -= np.einsum('mnpq,klpq->klmn', mp2f12.f12('iipp', gamma), tmp)\n",
    "    tmp = np.einsum('px,lkqx->klpq', fk[:nobs,nobs:], mp2f12.f12('iipx', gamma))\n",
    "    B -= np.einsum('mnpq,klpq->klmn', mp2f12.f12('iipp', gamma), tmp)\n",
    "    tmp = np.einsum('qx,klpx->klpq', fk[:nobs,nobs:], mp2f12.f12('iipx', gamma))\n",
    "    B -= np.einsum('mnpq,klpq->klmn', mp2f12.f12('iipp', gamma), tmp)\n",
    "    tmp = np.einsum('yp,klip->kliy', fk[nobs:,:nobs], mp2f12.f12('iiop', gamma))\n",
    "    B -= np.einsum('mniy,kliy->klmn', mp2f12.f12('iiox', gamma), tmp)\n",
    "    tmp = np.einsum('xp,lkjp->klxj', fk[nobs:,:nobs], mp2f12.f12('iiop', gamma))\n",
    "    B -= np.einsum('nmjx,klxj->klmn', mp2f12.f12('iiox', gamma), tmp)\n",
    "    tmp = np.einsum('ip,klpy->kliy', fk[:nocc,:nobs], mp2f12.f12('iipx', gamma))\n",
    "    B -= np.einsum('mniy,kliy->klmn', mp2f12.f12('iiox', gamma), tmp)\n",
    "    tmp = np.einsum('yx,klix->kliy', fk[nobs:,nobs:], mp2f12.f12('iiox', gamma))\n",
    "    B -= np.einsum('mniy,kliy->klmn', mp2f12.f12('iiox', gamma), tmp) \n",
    "    tmp = np.einsum('xy,lkjy->klxj', fk[nobs:,nobs:], mp2f12.f12('iiox', gamma))\n",
    "    B -= np.einsum('nmjx,klxj->klmn', mp2f12.f12('iiox', gamma), tmp)\n",
    "    tmp = np.einsum('jp,lkpx->klxj', fk[:nocc,:nobs], mp2f12.f12('iipx', gamma))\n",
    "    B -= np.einsum('nmjx,klxj->klmn', mp2f12.f12('iiox', gamma), tmp)\n",
    "    tmp = np.einsum('ix,klxy->kliy', fk[:nocc,nobs:], mp2f12.f12('iixx', gamma))\n",
    "    B -= np.einsum('mniy,kliy->klmn', mp2f12.f12('iiox', gamma), tmp)\n",
    "    tmp = np.einsum('jy,lkyx->klxj', fk[:nocc,nobs:], mp2f12.f12('iixx', gamma))\n",
    "    B -= np.einsum('nmjx,klxj->klmn', mp2f12.f12('iiox', gamma), tmp)\n",
    "\n",
    "    # Y contribution \n",
    "    tmp = np.einsum('xp,lkbp->klxb', k[nobs:,:nobs], mp2f12.f12('iiap', gamma))\n",
    "    B -= np.einsum('klxb,nmbx->klmn', tmp, mp2f12.f12('iiax', gamma))\n",
    "    tmp = np.einsum('yp,klap->klay',k[nobs:,:nobs], mp2f12.f12('iiap', gamma))\n",
    "    B -= np.einsum('klay,mnay->klmn', tmp, mp2f12.f12('iiax', gamma))\n",
    "    tmp = np.einsum('xy,lkby->klxb', k[nobs:,nobs:], mp2f12.f12('iiax', gamma))\n",
    "    B -= np.einsum('klxb,nmbx->klmn', tmp, mp2f12.f12('iiax', gamma))\n",
    "    tmp = np.einsum('bp,lkpx->klxb', k[nocc:nobs,:nobs], mp2f12.f12('iipx', gamma))\n",
    "    B -= np.einsum('klxb,nmbx->klmn', tmp, mp2f12.f12('iiax', gamma))\n",
    "    tmp = np.einsum('ap,klpy->klay', k[nocc:nobs,:nobs], mp2f12.f12('iipx', gamma))\n",
    "    B -= np.einsum('klay,mnay->klmn', tmp, mp2f12.f12('iiax', gamma))\n",
    "    tmp = np.einsum('yx,klax->klay',k[nobs:,nobs:], mp2f12.f12('iiax', gamma))\n",
    "    B -= np.einsum('klay,mnay->klmn', tmp, mp2f12.f12('iiax', gamma))\n",
    "    tmp = np.einsum('by,lkyx->klxb', k[nocc:nobs,nobs:], mp2f12.f12('iixx', gamma))\n",
    "    B -= np.einsum('klxb,nmbx->klmn', tmp, mp2f12.f12('iiax', gamma))\n",
    "    tmp = np.einsum('ax,klxy->klay', k[nocc:nobs,nobs:], mp2f12.f12('iixx', gamma))\n",
    "    B -= np.einsum('klay,mnay->klmn', tmp, mp2f12.f12('iiax', gamma))\n",
    "    tmp = np.einsum('xp,klpy->klxy', k[nobs:,:nobs], mp2f12.f12('iipx', gamma))\n",
    "    B -= np.einsum('klxy,mnxy->klmn', tmp, mp2f12.f12('iixx', gamma))\n",
    "    tmp = np.einsum('yp,lkpx->klxy', k[nobs:,:nobs], mp2f12.f12('iipx', gamma))\n",
    "    B -= np.einsum('klxy,mnxy->klmn', tmp, mp2f12.f12('iixx', gamma))\n",
    "    tmp = np.einsum('yz,lkzx->klxy', k[nobs:,nobs:], mp2f12.f12('iixx', gamma))\n",
    "    B -= np.einsum('klxy,mnxy->klmn', tmp, mp2f12.f12('iixx', gamma))\n",
    "    tmp = np.einsum('xz,klzy->klxy', k[nobs:,nobs:], mp2f12.f12('iixx', gamma))\n",
    "    B -= np.einsum('klxy,mnxy->klmn', tmp, mp2f12.f12('iixx', gamma))\n",
    "\n",
    "    # F^2 Contribution\n",
    "    B += np.einsum('kp,nmlp->klmn', fk[nfocc:nocc,:nobs], mp2f12.f12squared('iiip', gamma))\n",
    "    B += np.einsum('lp,mnkp->klmn', fk[nfocc:nocc,:nobs], mp2f12.f12squared('iiip', gamma))\n",
    "    B += np.einsum('kx,nmlx->klmn', fk[nfocc:nocc,nobs:], mp2f12.f12squared('iiix', gamma))\n",
    "    B += np.einsum('lx,mnkx->klmn', fk[nfocc:nocc,nobs:], mp2f12.f12squared('iiix', gamma))\n",
    "\n",
    "    # C Matrix\n",
    "    C = np.zeros((naocc,naocc,nvir,nvir))\n",
    "    C += np.einsum('bx,klax->klab', f[nocc:nobs,nobs:], mp2f12.f12('iiax', gamma))\n",
    "    C += np.einsum('ax,lkbx->klab', f[nocc:nobs,nobs:], mp2f12.f12('iiax', gamma))\n",
    "\n",
    "    # -FC contribution to B\n",
    "    B -= np.einsum('klab,mnab->klmn', mp2f12.f12('iiaa', gamma), C)\n",
    "\n",
    "    # Symmetrize B\n",
    "    B = 0.5 * (B + np.einsum('klmn->mnkl', B))\n",
    "\n",
    "    return B, C"
   ]
  },
  {
   "cell_type": "code",
   "execution_count": 10,
   "metadata": {},
   "outputs": [],
   "source": [
    "def compute_V_tilde_so_(mp2f12, i, j, f, V, C):\n",
    "    \"\"\"\n",
    "    Returns V_tilde_so.\n",
    "    \"\"\"\n",
    "    obs = mp2f12.get_size()\n",
    "    nocc = obs['o']\n",
    "    naocc = obs['i']\n",
    "    nfocc = nocc - naocc\n",
    "    nvir = obs['a']\n",
    "\n",
    "    V_ab = [[]]\n",
    "    V_aa = [[]]\n",
    "    G_oovv = mp2f12.g('iiaa')\n",
    "    for k in range(naocc):\n",
    "        for l in range(naocc):\n",
    "            V_ab_kl = V[k,l,i,j]\n",
    "            V_aa_kl = V[k,l,i,j] - V[l,k,i,j]\n",
    "            for a in range(nvir):\n",
    "                for b in range(nvir):\n",
    "                    D_ijab = f[nocc+a,nocc+a] + f[nocc+b,nocc+b] \\\n",
    "                           - f[nfocc+i,nfocc+i] - f[nfocc+j,nfocc+j]\n",
    "                    C_klab = C[k,l,a,b]\n",
    "                    C_klba = C[k,l,b,a]\n",
    "                    G_ijab = G_oovv[i,j,a,b]\n",
    "                    G_ijba = G_oovv[i,j,b,a]\n",
    "                    V_ab_kl -= C_klab * G_ijab / D_ijab\n",
    "                    if k < l and a < b:\n",
    "                        C_klab = C_klab - C_klba\n",
    "                        G_ijab = G_ijab - G_ijba\n",
    "                        V_aa_kl -= C_klab * G_ijab / D_ijab\n",
    "            V_ab[-1].append(V_ab_kl)\n",
    "            if k < l:\n",
    "                V_aa[-1].append(V_aa_kl)\n",
    "\n",
    "    return np.matrix(V_ab).T, np.matrix(V_aa).T"
   ]
  },
  {
   "cell_type": "code",
   "execution_count": 11,
   "metadata": {},
   "outputs": [],
   "source": [
    "def compute_B_tilde_so_(mp2f12, i, j, f, B, X, C):\n",
    "    \"\"\"\n",
    "    Returns B_tilde_so.\n",
    "    \"\"\"\n",
    "\n",
    "    obs = mp2f12.get_size()\n",
    "    nocc = obs['o']\n",
    "    naocc = obs['i']\n",
    "    nfocc = nocc - naocc\n",
    "    nvir = obs['a']\n",
    "\n",
    "\n",
    "    e_ij = f[nfocc+i,nfocc+i] + f[nfocc+j,nfocc+j]\n",
    "    B_aa = []\n",
    "    B_ab = []\n",
    "    for k in range(naocc):\n",
    "        for l in range(naocc):\n",
    "            B_ab.append([])\n",
    "            if k < l: B_aa.append([])\n",
    "            B_ab_klmn = 0.0\n",
    "            B_aa_klmn = 0.0\n",
    "            for m in range(naocc):\n",
    "                for n in range(naocc):\n",
    "                    B_ab_klmn = B[k,l,m,n] - e_ij * X[k,l,m,n]\n",
    "                    if k < l and m < n:\n",
    "                        B_aa_klmn = B[k,l,m,n] - B[k,l,n,m] \\\n",
    "                            - e_ij * X[k,l,m,n] + e_ij * X[k,l,n,m]\n",
    "                    for a in range(nvir):\n",
    "                        for b in range(nvir):\n",
    "                            D_ijab = f[nocc+a,nocc+a] + f[nocc+b,nocc+b] \\\n",
    "                                   - f[nfocc+i,nfocc+i] - f[nfocc+j,nfocc+j]\n",
    "                            C_klab = C[k,l,a,b]\n",
    "                            C_klba = C[k,l,b,a]\n",
    "                            C_mnab = C[m,n,a,b]\n",
    "                            C_mnba = C[m,n,b,a]\n",
    "                            B_ab_klmn -= C_klab * C_mnab / D_ijab\n",
    "                            if a < b:\n",
    "                                C_klab = C_klab - C_klba\n",
    "                                C_mnab = C_mnab - C_mnba\n",
    "                                B_aa_klmn -= C_klab * C_mnab / D_ijab\n",
    "                    B_ab[-1].append(B_ab_klmn)\n",
    "                    if k < l and m < n:\n",
    "                        B_aa[-1].append(B_aa_klmn)\n",
    "\n",
    "    return np.matrix(B_ab), np.matrix(B_aa)"
   ]
  },
  {
   "cell_type": "code",
   "execution_count": 12,
   "metadata": {},
   "outputs": [
    {
     "name": "stdout",
     "output_type": "stream",
     "text": [
      "\n",
      "\n",
      "********************* MP2-F12(3C) ***********************\n",
      "[Werner, Adler, Manby, J. Chem. Phys. 2007, 126, 164102.]\n",
      "\n",
      "\n"
     ]
    }
   ],
   "source": [
    "print('\\n\\n********************* MP2-F12(3C) ***********************')\n",
    "print('[Werner, Adler, Manby, J. Chem. Phys. 2007, 126, 164102.]\\n\\n')\n",
    "\n",
    "obs = mp2f12.get_size()\n",
    "nocc = obs['o']\n",
    "naocc = obs['i']\n",
    "nfocc = nocc - naocc \n",
    "nvir = obs['a']\n",
    "nobs = nmo = obs['p']\n",
    "ncabs = obs['x']\n",
    "nri = nmo + ncabs\n",
    "eps = mp2f12.get_eps()\n",
    "Eocc = eps[nfocc:nocc]\n",
    "Evirt = eps[nocc:]"
   ]
  },
  {
   "cell_type": "code",
   "execution_count": 13,
   "metadata": {},
   "outputs": [
    {
     "name": "stdout",
     "output_type": "stream",
     "text": [
      "\n",
      "Orbital Spces:\n",
      "\n",
      "  nfocc: 1\n",
      "  naocc: 4\n",
      "   nocc: 5\n",
      "   nvir: 43\n",
      "   nobs: 48\n",
      "  ncabs: 84\n",
      "\n"
     ]
    }
   ],
   "source": [
    "#constant\n",
    "psi_hartree2kcalmol = 627.5095\n",
    "\n",
    "# Orbital spaces\n",
    "print('\\nOrbital Spces:\\n')\n",
    "print('  nfocc: %d' % nfocc)\n",
    "print('  naocc: %d' % naocc)\n",
    "print('   nocc: %d' % nocc)\n",
    "print('   nvir: %d' % nvir)\n",
    "print('   nobs: %d' % nobs)\n",
    "print('  ncabs: %d\\n' % ncabs)"
   ]
  },
  {
   "cell_type": "code",
   "execution_count": 14,
   "metadata": {},
   "outputs": [],
   "source": [
    "# Build Marrix V\n",
    "V = np.zeros((naocc,naocc,naocc,naocc))\n",
    "V += mp2f12.f12g12('iiii', gamma)\n",
    "V -= np.einsum('ijrs,klrs->ijkl',mp2f12.g('iipp'),mp2f12.f12('iipp', gamma))\n",
    "V -= np.einsum('ijxm,klxm->ijkl',mp2f12.g('iixi'),mp2f12.f12('iixi', gamma))\n",
    "V -= np.einsum('ijmx,klmx->ijkl',mp2f12.g('iiix'),mp2f12.f12('iiix', gamma))"
   ]
  },
  {
   "cell_type": "code",
   "execution_count": 15,
   "metadata": {},
   "outputs": [],
   "source": [
    "#Build Matrix X\n",
    "X = np.zeros((naocc,naocc,naocc,naocc))\n",
    "X += mp2f12.f12squared('iiii',  gamma)\n",
    "X -= np.einsum('ijrs,klrs->ijkl',mp2f12.f12('iipp', gamma),mp2f12.f12('iipp', gamma))\n",
    "X -= np.einsum('ijxm,klxm->ijkl',mp2f12.f12('iixi', gamma),mp2f12.f12('iixi', gamma))\n",
    "X -= np.einsum('ijmx,klmx->ijkl',mp2f12.f12('iiix', gamma),mp2f12.f12('iiix', gamma))"
   ]
  },
  {
   "cell_type": "code",
   "execution_count": 16,
   "metadata": {},
   "outputs": [],
   "source": [
    "V_pp, V_px , V_xx = mp2f12.get_V()\n",
    "T_pp, T_px , T_xx = mp2f12.get_T()"
   ]
  },
  {
   "cell_type": "code",
   "execution_count": 17,
   "metadata": {},
   "outputs": [],
   "source": [
    "# Build Fock matrix\n",
    "k = np.zeros((nri,nri))\n",
    "f = np.zeros((nri,nri))"
   ]
  },
  {
   "cell_type": "code",
   "execution_count": 18,
   "metadata": {},
   "outputs": [],
   "source": [
    "# T1 and V1 contribution to the Fock matrix\n",
    "f[:nobs,:nobs] = T_pp + V_pp\n",
    "f[:nobs,nobs:] = T_px + V_px\n",
    "f[nobs:,nobs:] = T_xx + V_xx"
   ]
  },
  {
   "cell_type": "code",
   "execution_count": 19,
   "metadata": {},
   "outputs": [],
   "source": [
    "# Coulomb integral contribution to the Fock matrix\n",
    "f[:nobs,:nobs] += 2.0 * np.einsum('viui->vu', mp2f12.g('popo'))\n",
    "f[:nobs,nobs:] += 2.0 * np.einsum('iviu->vu', mp2f12.g('opox'))\n",
    "f[nobs:,nobs:] += 2.0 * np.einsum('iviu->vu', mp2f12.g('oxox'))"
   ]
  },
  {
   "cell_type": "code",
   "execution_count": 20,
   "metadata": {},
   "outputs": [],
   "source": [
    "# Exchange integral contribution to the Fock matrix\n",
    "k[:nobs,:nobs] = np.einsum('iivu->vu', mp2f12.g('oopp'))\n",
    "k[:nobs,nobs:] = np.einsum('iivu->vu', mp2f12.g('oopx'))\n",
    "k[nobs:,nobs:] = np.einsum('iivu->vu', mp2f12.g('ooxx'))\n",
    "f -= k"
   ]
  },
  {
   "cell_type": "code",
   "execution_count": 21,
   "metadata": {},
   "outputs": [],
   "source": [
    "# Fill in the remaining elements by symmetry\n",
    "f[nobs:,:nobs] = f[:nobs,nobs:].T\n",
    "k[nobs:,:nobs] = k[:nobs,nobs:].T\n",
    "fk = f + k"
   ]
  },
  {
   "cell_type": "code",
   "execution_count": 22,
   "metadata": {},
   "outputs": [],
   "source": [
    "B,C = Calculate_BC(fk, mp2f12)"
   ]
  },
  {
   "cell_type": "code",
   "execution_count": 23,
   "metadata": {},
   "outputs": [],
   "source": [
    "G_oovv = mp2f12.g('iiaa')"
   ]
  },
  {
   "cell_type": "code",
   "execution_count": 24,
   "metadata": {},
   "outputs": [],
   "source": [
    "# Conventional MP2\n",
    "E_mp2 = 0.0\n",
    "e_aa_pairs = {}\n",
    "e_ab_pairs = {}\n",
    "for i in range(naocc):\n",
    "    e_aa_pairs[i] = {}\n",
    "    e_ab_pairs[i] = {}\n",
    "    for j in range(naocc):\n",
    "        e_ab_pairs[i][j] = 0.0\n",
    "        e_aa_pairs[i][j] = 0.0\n",
    "        for a in range(nvir):\n",
    "            for b in range(nvir):\n",
    "                G_ijab = G_oovv[i,j,a,b]\n",
    "                G_ijba = G_oovv[i,j,b,a]\n",
    "                D_ijab = f[nocc+a,nocc+a] + f[nocc+b,nocc+b] \\\n",
    "                       - f[nfocc+i,nfocc+i] - f[nfocc+j,nfocc+j]\n",
    "                e_ab_pairs[i][j] -= G_ijab * G_ijab / D_ijab\n",
    "                if i > j or a > b: continue\n",
    "                G_ijab = G_ijab - G_ijba\n",
    "                e_aa_pairs[i][j] -= G_ijab * G_ijab / D_ijab\n",
    "        E_mp2 += e_ab_pairs[i][j] + 2.0 * e_aa_pairs[i][j]"
   ]
  },
  {
   "cell_type": "code",
   "execution_count": 25,
   "metadata": {},
   "outputs": [
    {
     "name": "stdout",
     "output_type": "stream",
     "text": [
      "-0.24120408267092866\n"
     ]
    }
   ],
   "source": [
    "print(E_mp2)"
   ]
  },
  {
   "cell_type": "code",
   "execution_count": 26,
   "metadata": {},
   "outputs": [],
   "source": [
    "# F12 contribution\n",
    "E_f12 = 0.0\n",
    "f_aa_pairs = {}\n",
    "f_ab_pairs = {}\n",
    "for i in range(naocc):\n",
    "    f_aa_pairs[i] = {}\n",
    "    f_ab_pairs[i] = {}\n",
    "    for j in range(naocc):\n",
    "        f_ab_pairs[i][j] = 0.0\n",
    "        f_aa_pairs[i][j] = 0.0\n",
    "        V_ab, V_aa = compute_V_tilde_so_(mp2f12, i, j, f, V, C)\n",
    "        B_ab, B_aa = compute_B_tilde_so_(mp2f12, i, j, f, B, X, C)\n",
    "        B_ab_inv = B_ab.I\n",
    "        f_ab_pairs[i][j] = - (V_ab.T * B_ab_inv * V_ab)[0,0]\n",
    "        if i < j:\n",
    "            B_aa_inv = B_aa.I\n",
    "            f_aa_pairs[i][j] = - (V_aa.T * B_aa_inv * V_aa)[0,0]\n",
    "        E_f12 += f_ab_pairs[i][j] + 2.0 * f_aa_pairs[i][j]"
   ]
  },
  {
   "cell_type": "code",
   "execution_count": 27,
   "metadata": {},
   "outputs": [
    {
     "name": "stdout",
     "output_type": "stream",
     "text": [
      "\n",
      "Alpha-Beta pair energies:\n",
      "\n",
      "      i     j              mp2              f12            total\n",
      "\n",
      "      1     1     -0.010374019     -0.002883343     -0.013257361\n",
      "\n",
      "      1     2     -0.008549704     -0.003343541     -0.011893244\n",
      "\n",
      "      1     3     -0.007116163     -0.003020778     -0.010136941\n",
      "\n",
      "      1     4     -0.007324047     -0.003535771     -0.010859818\n",
      "\n",
      "      2     1     -0.008549704     -0.003343541     -0.011893244\n",
      "\n",
      "      2     2     -0.021418900     -0.004355069     -0.025773968\n",
      "\n",
      "      2     3     -0.010924033     -0.001892473     -0.012816507\n",
      "\n",
      "      2     4     -0.009395180     -0.002143578     -0.011538758\n",
      "\n",
      "      3     1     -0.007116163     -0.003020778     -0.010136941\n",
      "\n",
      "      3     2     -0.010924033     -0.001892473     -0.012816507\n",
      "\n",
      "      3     3     -0.020650382     -0.005315674     -0.025966056\n",
      "\n",
      "      3     4     -0.010323742     -0.002589702     -0.012913444\n",
      "\n",
      "      4     1     -0.007324047     -0.003535771     -0.010859818\n",
      "\n",
      "      4     2     -0.009395180     -0.002143578     -0.011538758\n",
      "\n",
      "      4     3     -0.010323742     -0.002589702     -0.012913444\n",
      "\n",
      "      4     4     -0.020662825     -0.006145765     -0.026808591\n",
      "\n"
     ]
    }
   ],
   "source": [
    "# Printing the Alpha-Beta pair energies\n",
    "print('\\nAlpha-Beta pair energies:\\n')\n",
    "print('  %5s %5s %16s %16s %16s\\n' % ('i', 'j', 'mp2', 'f12', 'total'))\n",
    "for i in range(naocc):\n",
    "    for j in range(naocc):\n",
    "        e_mp2 = e_ab_pairs[i][j]\n",
    "        e_f12 = f_ab_pairs[i][j]\n",
    "        e = e_mp2 + e_f12\n",
    "        print('  %5d %5d %16.9f %16.9f %16.9f\\n' % \\\n",
    "        (i+1, j+1, e_mp2, e_f12, e))"
   ]
  },
  {
   "cell_type": "code",
   "execution_count": 28,
   "metadata": {},
   "outputs": [
    {
     "name": "stdout",
     "output_type": "stream",
     "text": [
      "\n",
      "Alpha-Alpha pair energies:\n",
      "\n",
      "      i     j              mp2              f12            total\n",
      "\n",
      "      2     1     -0.002385500     -0.000298215     -0.002683715\n",
      "\n",
      "      3     1     -0.002431500     -0.000360785     -0.002792285\n",
      "\n",
      "      3     2     -0.007239989     -0.000659504     -0.007899493\n",
      "\n",
      "      4     1     -0.002596545     -0.000504100     -0.003100645\n",
      "\n",
      "      4     2     -0.007743617     -0.000773911     -0.008517528\n",
      "\n",
      "      4     3     -0.008018958     -0.000814314     -0.008833272\n",
      "\n"
     ]
    }
   ],
   "source": [
    "# Printing the Alpha-Alpha pair energies\n",
    "print('\\nAlpha-Alpha pair energies:\\n')\n",
    "print('  %5s %5s %16s %16s %16s\\n' % (' i', 'j', 'mp2', 'f12', 'total'))\n",
    "for i in range(naocc):\n",
    "    for j in range(0, i, 1):\n",
    "        e_mp2 = e_aa_pairs[j][i]\n",
    "        e_f12 = f_aa_pairs[j][i]\n",
    "        e = e_mp2 + e_f12\n",
    "        print('  %5d %5d %16.9f %16.9f %16.9f\\n' % \\\n",
    "        (i+1, j+1, e_mp2, e_f12, e))"
   ]
  },
  {
   "cell_type": "code",
   "execution_count": 29,
   "metadata": {},
   "outputs": [
    {
     "name": "stdout",
     "output_type": "stream",
     "text": [
      "\n",
      "MP2-F12 Energy:\n",
      "----------------------------------\n",
      "                  SCF energy:    -76.058455449\n",
      "      MP2 correlation energy:     -0.241204083\n",
      "      F12 correlation energy:     -0.058573194\n",
      "  MP2-F12 correlation energy:     -0.299777277\n",
      "        MP2-F12 total energy:    -76.358232726\n"
     ]
    }
   ],
   "source": [
    "# Obtain SCF from Psi4\n",
    "E_scf = psi4.energy('SCF', return_wfn=False)\n",
    "\n",
    "print('\\nMP2-F12 Energy:')\n",
    "print('----------------------------------')\n",
    "print('                  SCF energy: %16.9f' % (E_scf))\n",
    "print('      MP2 correlation energy: %16.9f'   % (E_mp2))\n",
    "print('      F12 correlation energy: %16.9f'   % (E_f12))\n",
    "print('  MP2-F12 correlation energy: %16.9f'   % (E_mp2 + E_f12))\n",
    "print('        MP2-F12 total energy: %16.9f'   % (E_scf + E_mp2 + E_f12))"
   ]
  },
  {
   "cell_type": "code",
   "execution_count": null,
   "metadata": {},
   "outputs": [],
   "source": []
  }
 ],
 "metadata": {
  "kernelspec": {
   "display_name": "Python 3",
   "language": "python",
   "name": "python3"
  },
  "language_info": {
   "codemirror_mode": {
    "name": "ipython",
    "version": 3
   },
   "file_extension": ".py",
   "mimetype": "text/x-python",
   "name": "python",
   "nbconvert_exporter": "python",
   "pygments_lexer": "ipython3",
   "version": "3.6.11"
  }
 },
 "nbformat": 4,
 "nbformat_minor": 4
}
